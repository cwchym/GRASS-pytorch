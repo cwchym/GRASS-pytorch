{
 "cells": [
  {
   "cell_type": "code",
   "execution_count": 44,
   "metadata": {
    "collapsed": true
   },
   "outputs": [],
   "source": [
    "import model\n",
    "from torch.autograd import Variable\n",
    "import torch"
   ]
  },
  {
   "cell_type": "code",
   "execution_count": 53,
   "metadata": {},
   "outputs": [
    {
     "name": "stdout",
     "output_type": "stream",
     "text": [
      "Variable containing:\n",
      " 1  2\n",
      "[torch.FloatTensor of size 1x2]\n",
      "\n",
      "Variable containing:\n",
      "-0.2776  0.4958 -0.0944 -0.0036\n",
      "[torch.FloatTensor of size 1x4]\n",
      "\n"
     ]
    }
   ],
   "source": [
    "m = model.RvnnEncoCell(6,4,1,2)\n",
    "inputa = [Variable(torch.FloatTensor([[1.0,2.0]]),requires_grad = True),\n",
    "          Variable(torch.FloatTensor([[1.0,2.0]]),requires_grad = True)]\n",
    "print(inputa1)\n",
    "Out1 = m(0,inputa[0])\n",
    "Out2 = m(0,inputa[1])\n",
    "Out3 = m(1,Out1,Out2)\n",
    "print(Out)"
   ]
  },
  {
   "cell_type": "code",
   "execution_count": 54,
   "metadata": {},
   "outputs": [
    {
     "name": "stdout",
     "output_type": "stream",
     "text": [
      "None\n",
      "Variable containing:\n",
      "-0.7537 -1.5074\n",
      "-0.3454 -0.6908\n",
      "-0.2558 -0.5116\n",
      " 0.4544  0.9087\n",
      "[torch.FloatTensor of size 4x2]\n",
      "\n",
      "Variable containing:\n",
      " 0.0506 -0.1861 -0.5111  0.1083  0.0506 -0.1861 -0.5111  0.1083\n",
      " 0.0066 -0.0243 -0.0668  0.0142  0.0066 -0.0243 -0.0668  0.0142\n",
      "-0.0228  0.0837  0.2299 -0.0487 -0.0228  0.0837  0.2299 -0.0487\n",
      " 0.0496 -0.1824 -0.5008  0.1061  0.0496 -0.1824 -0.5008  0.1061\n",
      " 0.0477 -0.1755 -0.4820  0.1021  0.0477 -0.1755 -0.4820  0.1021\n",
      "-0.0287  0.1054  0.2893 -0.0613 -0.0287  0.1054  0.2893 -0.0613\n",
      "[torch.FloatTensor of size 6x8]\n",
      "\n",
      "Variable containing:\n",
      "-0.4377 -0.1206 -0.1599  0.5594  0.0894 -0.4642\n",
      "-0.4245 -0.1169 -0.1551  0.5426  0.0867 -0.4502\n",
      "-0.4135 -0.1139 -0.1511  0.5285  0.0845 -0.4385\n",
      "-0.2537 -0.0699 -0.0927  0.3243  0.0518 -0.2691\n",
      "[torch.FloatTensor of size 4x6]\n",
      "\n",
      "Variable containing:\n",
      "-0.1104  0.1191\n",
      "[torch.FloatTensor of size 1x2]\n",
      "\n",
      "Variable containing:\n",
      "-0.1495 -0.1409\n",
      "[torch.FloatTensor of size 1x2]\n",
      "\n",
      "None\n",
      "None\n"
     ]
    }
   ],
   "source": [
    "print(m.BoxEnco.weight.grad)\n",
    "Out3.backward(torch.FloatTensor([[1.0,1.0,1.0,1.0]]))\n",
    "print(m.BoxEnco.weight.grad)\n",
    "print(m.AdjEnco1.weight.grad)\n",
    "print(m.AdjEnco2.weight.grad)\n",
    "print(inputa[0].grad)\n",
    "print(inputa[1].grad)\n",
    "print(Out1.grad)\n",
    "print(Out2.grad)"
   ]
  },
  {
   "cell_type": "code",
   "execution_count": 55,
   "metadata": {},
   "outputs": [
    {
     "ename": "AttributeError",
     "evalue": "'Tanh' object has no attribute 'weight'",
     "output_type": "error",
     "traceback": [
      "\u001b[0;31m---------------------------------------------------\u001b[0m",
      "\u001b[0;31mAttributeError\u001b[0m    Traceback (most recent call last)",
      "\u001b[0;32m<ipython-input-55-c55715773c57>\u001b[0m in \u001b[0;36m<module>\u001b[0;34m()\u001b[0m\n\u001b[1;32m      1\u001b[0m \u001b[0mx\u001b[0m \u001b[0;34m=\u001b[0m \u001b[0mtorch\u001b[0m\u001b[0;34m.\u001b[0m\u001b[0mnn\u001b[0m\u001b[0;34m.\u001b[0m\u001b[0mTanh\u001b[0m\u001b[0;34m(\u001b[0m\u001b[0;34m)\u001b[0m\u001b[0;34m\u001b[0m\u001b[0m\n\u001b[0;32m----> 2\u001b[0;31m \u001b[0;32mprint\u001b[0m\u001b[0;34m(\u001b[0m\u001b[0mx\u001b[0m\u001b[0;34m.\u001b[0m\u001b[0mweight\u001b[0m\u001b[0;34m)\u001b[0m\u001b[0;34m\u001b[0m\u001b[0m\n\u001b[0m",
      "\u001b[0;32m/home/lipschitz/anaconda2/lib/python2.7/site-packages/torch/nn/modules/module.pyc\u001b[0m in \u001b[0;36m__getattr__\u001b[0;34m(self, name)\u001b[0m\n\u001b[1;32m    260\u001b[0m                 \u001b[0;32mreturn\u001b[0m \u001b[0mmodules\u001b[0m\u001b[0;34m[\u001b[0m\u001b[0mname\u001b[0m\u001b[0;34m]\u001b[0m\u001b[0;34m\u001b[0m\u001b[0m\n\u001b[1;32m    261\u001b[0m         raise AttributeError(\"'{}' object has no attribute '{}'\".format(\n\u001b[0;32m--> 262\u001b[0;31m             type(self).__name__, name))\n\u001b[0m\u001b[1;32m    263\u001b[0m \u001b[0;34m\u001b[0m\u001b[0m\n\u001b[1;32m    264\u001b[0m     \u001b[0;32mdef\u001b[0m \u001b[0m__setattr__\u001b[0m\u001b[0;34m(\u001b[0m\u001b[0mself\u001b[0m\u001b[0;34m,\u001b[0m \u001b[0mname\u001b[0m\u001b[0;34m,\u001b[0m \u001b[0mvalue\u001b[0m\u001b[0;34m)\u001b[0m\u001b[0;34m:\u001b[0m\u001b[0;34m\u001b[0m\u001b[0m\n",
      "\u001b[0;31mAttributeError\u001b[0m: 'Tanh' object has no attribute 'weight'"
     ]
    }
   ],
   "source": [
    "x = torch.nn.Tanh()\n",
    "print(x.weight)"
   ]
  },
  {
   "cell_type": "code",
   "execution_count": 30,
   "metadata": {},
   "outputs": [
    {
     "name": "stdout",
     "output_type": "stream",
     "text": [
      "Variable containing:\n",
      "-0.8396 -0.5655 -0.8483  0.1547\n",
      "[torch.FloatTensor of size 1x4]\n",
      "\n"
     ]
    }
   ],
   "source": [
    "print(Out.narrow(1,0,4))"
   ]
  },
  {
   "cell_type": "code",
   "execution_count": null,
   "metadata": {
    "collapsed": true
   },
   "outputs": [],
   "source": []
  }
 ],
 "metadata": {
  "kernelspec": {
   "display_name": "Python 2",
   "language": "python",
   "name": "python2"
  },
  "language_info": {
   "codemirror_mode": {
    "name": "ipython",
    "version": 2
   },
   "file_extension": ".py",
   "mimetype": "text/x-python",
   "name": "python",
   "nbconvert_exporter": "python",
   "pygments_lexer": "ipython2",
   "version": "2.7.13"
  }
 },
 "nbformat": 4,
 "nbformat_minor": 2
}
